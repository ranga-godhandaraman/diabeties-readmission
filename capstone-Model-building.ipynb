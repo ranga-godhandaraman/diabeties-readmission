{
 "cells": [
  {
   "cell_type": "code",
   "execution_count": 2,
   "id": "367d4115",
   "metadata": {},
   "outputs": [],
   "source": [
    "import pandas as pd\n",
    "import numpy as np\n",
    "import seaborn as sns\n",
    "import matplotlib.pyplot as plt\n",
    "%matplotlib inline\n",
    "import warnings \n",
    "warnings.filterwarnings('ignore')\n",
    "\n",
    "from scipy.stats import zscore\n",
    "from scipy.stats import skew\n",
    "from scipy.stats import norm\n",
    "from sklearn.model_selection import train_test_split\n",
    "from scipy.stats import ttest_ind\n",
    "from scipy.stats import chi2_contingency\n",
    "\n",
    "from sklearn.tree import DecisionTreeClassifier # Import Decision Tree Classifier\n",
    "from sklearn.model_selection import train_test_split # Import train_test_split function\n",
    "from sklearn import metrics #Import scikit-learn metrics module for accuracy calculation"
   ]
  },
  {
   "cell_type": "code",
   "execution_count": 3,
   "id": "b42831a2",
   "metadata": {},
   "outputs": [],
   "source": [
    "# Load dataset\n",
    "df= pd.read_csv(\"diabetic_data.csv\")"
   ]
  },
  {
   "cell_type": "code",
   "execution_count": 4,
   "id": "21448656",
   "metadata": {},
   "outputs": [
    {
     "data": {
      "text/html": [
       "<div>\n",
       "<style scoped>\n",
       "    .dataframe tbody tr th:only-of-type {\n",
       "        vertical-align: middle;\n",
       "    }\n",
       "\n",
       "    .dataframe tbody tr th {\n",
       "        vertical-align: top;\n",
       "    }\n",
       "\n",
       "    .dataframe thead th {\n",
       "        text-align: right;\n",
       "    }\n",
       "</style>\n",
       "<table border=\"1\" class=\"dataframe\">\n",
       "  <thead>\n",
       "    <tr style=\"text-align: right;\">\n",
       "      <th></th>\n",
       "      <th>encounter_id</th>\n",
       "      <th>patient_nbr</th>\n",
       "      <th>race</th>\n",
       "      <th>gender</th>\n",
       "      <th>age</th>\n",
       "      <th>weight</th>\n",
       "      <th>admission_type_id</th>\n",
       "      <th>discharge_disposition_id</th>\n",
       "      <th>admission_source_id</th>\n",
       "      <th>time_in_hospital</th>\n",
       "      <th>...</th>\n",
       "      <th>citoglipton</th>\n",
       "      <th>insulin</th>\n",
       "      <th>glyburide-metformin</th>\n",
       "      <th>glipizide-metformin</th>\n",
       "      <th>glimepiride-pioglitazone</th>\n",
       "      <th>metformin-rosiglitazone</th>\n",
       "      <th>metformin-pioglitazone</th>\n",
       "      <th>change</th>\n",
       "      <th>diabetesMed</th>\n",
       "      <th>readmitted</th>\n",
       "    </tr>\n",
       "  </thead>\n",
       "  <tbody>\n",
       "    <tr>\n",
       "      <th>0</th>\n",
       "      <td>2278392</td>\n",
       "      <td>8222157</td>\n",
       "      <td>Caucasian</td>\n",
       "      <td>Female</td>\n",
       "      <td>[0-10)</td>\n",
       "      <td>?</td>\n",
       "      <td>6</td>\n",
       "      <td>25</td>\n",
       "      <td>1</td>\n",
       "      <td>1</td>\n",
       "      <td>...</td>\n",
       "      <td>No</td>\n",
       "      <td>No</td>\n",
       "      <td>No</td>\n",
       "      <td>No</td>\n",
       "      <td>No</td>\n",
       "      <td>No</td>\n",
       "      <td>No</td>\n",
       "      <td>No</td>\n",
       "      <td>No</td>\n",
       "      <td>NO</td>\n",
       "    </tr>\n",
       "    <tr>\n",
       "      <th>1</th>\n",
       "      <td>149190</td>\n",
       "      <td>55629189</td>\n",
       "      <td>Caucasian</td>\n",
       "      <td>Female</td>\n",
       "      <td>[10-20)</td>\n",
       "      <td>?</td>\n",
       "      <td>1</td>\n",
       "      <td>1</td>\n",
       "      <td>7</td>\n",
       "      <td>3</td>\n",
       "      <td>...</td>\n",
       "      <td>No</td>\n",
       "      <td>Up</td>\n",
       "      <td>No</td>\n",
       "      <td>No</td>\n",
       "      <td>No</td>\n",
       "      <td>No</td>\n",
       "      <td>No</td>\n",
       "      <td>Ch</td>\n",
       "      <td>Yes</td>\n",
       "      <td>&gt;30</td>\n",
       "    </tr>\n",
       "    <tr>\n",
       "      <th>2</th>\n",
       "      <td>64410</td>\n",
       "      <td>86047875</td>\n",
       "      <td>AfricanAmerican</td>\n",
       "      <td>Female</td>\n",
       "      <td>[20-30)</td>\n",
       "      <td>?</td>\n",
       "      <td>1</td>\n",
       "      <td>1</td>\n",
       "      <td>7</td>\n",
       "      <td>2</td>\n",
       "      <td>...</td>\n",
       "      <td>No</td>\n",
       "      <td>No</td>\n",
       "      <td>No</td>\n",
       "      <td>No</td>\n",
       "      <td>No</td>\n",
       "      <td>No</td>\n",
       "      <td>No</td>\n",
       "      <td>No</td>\n",
       "      <td>Yes</td>\n",
       "      <td>NO</td>\n",
       "    </tr>\n",
       "    <tr>\n",
       "      <th>3</th>\n",
       "      <td>500364</td>\n",
       "      <td>82442376</td>\n",
       "      <td>Caucasian</td>\n",
       "      <td>Male</td>\n",
       "      <td>[30-40)</td>\n",
       "      <td>?</td>\n",
       "      <td>1</td>\n",
       "      <td>1</td>\n",
       "      <td>7</td>\n",
       "      <td>2</td>\n",
       "      <td>...</td>\n",
       "      <td>No</td>\n",
       "      <td>Up</td>\n",
       "      <td>No</td>\n",
       "      <td>No</td>\n",
       "      <td>No</td>\n",
       "      <td>No</td>\n",
       "      <td>No</td>\n",
       "      <td>Ch</td>\n",
       "      <td>Yes</td>\n",
       "      <td>NO</td>\n",
       "    </tr>\n",
       "    <tr>\n",
       "      <th>4</th>\n",
       "      <td>16680</td>\n",
       "      <td>42519267</td>\n",
       "      <td>Caucasian</td>\n",
       "      <td>Male</td>\n",
       "      <td>[40-50)</td>\n",
       "      <td>?</td>\n",
       "      <td>1</td>\n",
       "      <td>1</td>\n",
       "      <td>7</td>\n",
       "      <td>1</td>\n",
       "      <td>...</td>\n",
       "      <td>No</td>\n",
       "      <td>Steady</td>\n",
       "      <td>No</td>\n",
       "      <td>No</td>\n",
       "      <td>No</td>\n",
       "      <td>No</td>\n",
       "      <td>No</td>\n",
       "      <td>Ch</td>\n",
       "      <td>Yes</td>\n",
       "      <td>NO</td>\n",
       "    </tr>\n",
       "  </tbody>\n",
       "</table>\n",
       "<p>5 rows × 50 columns</p>\n",
       "</div>"
      ],
      "text/plain": [
       "   encounter_id  patient_nbr             race  gender      age weight  \\\n",
       "0       2278392      8222157        Caucasian  Female   [0-10)      ?   \n",
       "1        149190     55629189        Caucasian  Female  [10-20)      ?   \n",
       "2         64410     86047875  AfricanAmerican  Female  [20-30)      ?   \n",
       "3        500364     82442376        Caucasian    Male  [30-40)      ?   \n",
       "4         16680     42519267        Caucasian    Male  [40-50)      ?   \n",
       "\n",
       "   admission_type_id  discharge_disposition_id  admission_source_id  \\\n",
       "0                  6                        25                    1   \n",
       "1                  1                         1                    7   \n",
       "2                  1                         1                    7   \n",
       "3                  1                         1                    7   \n",
       "4                  1                         1                    7   \n",
       "\n",
       "   time_in_hospital  ... citoglipton insulin  glyburide-metformin  \\\n",
       "0                 1  ...          No      No                   No   \n",
       "1                 3  ...          No      Up                   No   \n",
       "2                 2  ...          No      No                   No   \n",
       "3                 2  ...          No      Up                   No   \n",
       "4                 1  ...          No  Steady                   No   \n",
       "\n",
       "   glipizide-metformin  glimepiride-pioglitazone  metformin-rosiglitazone  \\\n",
       "0                   No                        No                       No   \n",
       "1                   No                        No                       No   \n",
       "2                   No                        No                       No   \n",
       "3                   No                        No                       No   \n",
       "4                   No                        No                       No   \n",
       "\n",
       "   metformin-pioglitazone  change diabetesMed readmitted  \n",
       "0                      No      No          No         NO  \n",
       "1                      No      Ch         Yes        >30  \n",
       "2                      No      No         Yes         NO  \n",
       "3                      No      Ch         Yes         NO  \n",
       "4                      No      Ch         Yes         NO  \n",
       "\n",
       "[5 rows x 50 columns]"
      ]
     },
     "execution_count": 4,
     "metadata": {},
     "output_type": "execute_result"
    }
   ],
   "source": [
    "# Data head\n",
    "df.head()"
   ]
  },
  {
   "cell_type": "markdown",
   "id": "756b8f6f",
   "metadata": {},
   "source": [
    "### Dropping the columns"
   ]
  },
  {
   "cell_type": "code",
   "execution_count": 5,
   "id": "ab9c67e7",
   "metadata": {},
   "outputs": [],
   "source": [
    "df.drop(['weight','payer_code','encounter_id', 'patient_nbr'],axis=1,inplace=True)"
   ]
  },
  {
   "cell_type": "markdown",
   "id": "4765c4c8",
   "metadata": {},
   "source": [
    "### Replacing the missing values"
   ]
  },
  {
   "cell_type": "code",
   "execution_count": 6,
   "id": "0106bb0a",
   "metadata": {},
   "outputs": [],
   "source": [
    "# Replace missing values in the race column with the most frequent value\n",
    "df['race'] = df['race'].fillna(df['race'].mode()[0])"
   ]
  },
  {
   "cell_type": "code",
   "execution_count": 7,
   "id": "4414a007",
   "metadata": {},
   "outputs": [],
   "source": [
    "# Replace missing values in the 'medical_specialty' column with the mode of the column\n",
    "df['medical_specialty'].replace('?', np.nan, inplace=True)\n",
    "df['medical_specialty'] = df['medical_specialty'].fillna(df['medical_specialty'].mode()[0])"
   ]
  },
  {
   "cell_type": "code",
   "execution_count": 8,
   "id": "0a5ce31f",
   "metadata": {},
   "outputs": [],
   "source": [
    "import re #regex!\n",
    "\n",
    "# Define a function to clean the age column\n",
    "def clean_age(age):\n",
    "    age = str(age) # Convert to string\n",
    "    age = re.sub('[^0-9\\-]', '', age) # Remove any non-numeric characters\n",
    "    age = age.split('-') # Split the string into a list of values\n",
    "    age = [int(x) for x in age if x != ''] # Convert each value to an integer and remove any empty strings\n",
    "    if len(age) == 1:\n",
    "        return age[0]\n",
    "    else:\n",
    "        return sum(age)/2 # Return the average of the lower and upper bounds of the age group\n",
    "\n",
    "# Apply the clean_age function to the age column\n",
    "df['age'] = df['age'].apply(clean_age)"
   ]
  },
  {
   "cell_type": "code",
   "execution_count": 9,
   "id": "09da80dd",
   "metadata": {},
   "outputs": [],
   "source": [
    "bins = [0, 20, 30, 40, 50, 60, 70, 80, 90, 100, 110]\n",
    "labels = ['0-20', '20-30', '30-40', '40-50', '50-60', '60-70', '70-80', '80-90', '90-100', '100-110']\n",
    "df['age_group'] = pd.cut(df['age'], bins=bins, labels=labels, include_lowest=True)\n"
   ]
  },
  {
   "cell_type": "markdown",
   "id": "677e8d11",
   "metadata": {},
   "source": [
    "## Label Encoding"
   ]
  },
  {
   "cell_type": "code",
   "execution_count": 10,
   "id": "389b9436",
   "metadata": {},
   "outputs": [
    {
     "data": {
      "text/plain": [
       "array([2, 1, 0])"
      ]
     },
     "execution_count": 10,
     "metadata": {},
     "output_type": "execute_result"
    }
   ],
   "source": [
    "# Import label encoder\n",
    "from sklearn import preprocessing\n",
    "\n",
    "# label_encoder object knows\n",
    "# how to understand word labels.\n",
    "label_encoder = preprocessing.LabelEncoder()\n",
    "\n",
    "# Encode labels in column 'readmitted'.\n",
    "df['readmitted']= label_encoder.fit_transform(df['readmitted'])\n",
    "\n",
    "df['readmitted'].unique()\n"
   ]
  },
  {
   "cell_type": "code",
   "execution_count": 11,
   "id": "b14e5f5b",
   "metadata": {},
   "outputs": [
    {
     "data": {
      "text/plain": [
       "array([3, 1, 0, 5, 2, 4])"
      ]
     },
     "execution_count": 11,
     "metadata": {},
     "output_type": "execute_result"
    }
   ],
   "source": [
    "# Encode labels in column 'race'.\n",
    "df['race']= label_encoder.fit_transform(df['race'])\n",
    "\n",
    "df['race'].unique()\n"
   ]
  },
  {
   "cell_type": "code",
   "execution_count": 12,
   "id": "10148412",
   "metadata": {},
   "outputs": [
    {
     "data": {
      "text/plain": [
       "array([0, 1, 2])"
      ]
     },
     "execution_count": 12,
     "metadata": {},
     "output_type": "execute_result"
    }
   ],
   "source": [
    "# Encode labels in column 'gender'.\n",
    "df['gender']= label_encoder.fit_transform(df['gender'])\n",
    "\n",
    "df['gender'].unique()\n"
   ]
  },
  {
   "cell_type": "code",
   "execution_count": 13,
   "id": "dc349b5c",
   "metadata": {},
   "outputs": [
    {
     "data": {
      "text/plain": [
       "array([37, 18, 11,  3, 62, 27, 12, 60, 19, 28, 47,  8, 51, 64, 22, 24, 33,\n",
       "       15, 30, 61, 35,  9, 71, 49, 41, 20,  2, 53, 38, 50, 45, 13, 25, 40,\n",
       "       66, 68, 67, 26, 65, 36, 43, 17,  1, 55,  0, 63, 39, 34,  6, 58, 69,\n",
       "       29, 48, 59, 44, 14, 46, 23, 70, 52, 32,  7, 57, 56, 16, 31,  4, 42,\n",
       "       21, 10,  5, 54])"
      ]
     },
     "execution_count": 13,
     "metadata": {},
     "output_type": "execute_result"
    }
   ],
   "source": [
    "# Encode labels in column 'medical_specialty'.\n",
    "df['medical_specialty']= label_encoder.fit_transform(df['medical_specialty'])\n",
    "\n",
    "df['medical_specialty'].unique()\n"
   ]
  },
  {
   "cell_type": "code",
   "execution_count": 13,
   "id": "21f59e1f",
   "metadata": {},
   "outputs": [
    {
     "data": {
      "text/plain": [
       "array([1, 2, 3, 0])"
      ]
     },
     "execution_count": 13,
     "metadata": {},
     "output_type": "execute_result"
    }
   ],
   "source": [
    "# Encode labels in column 'metformin'.\n",
    "df['metformin']= label_encoder.fit_transform(df['metformin'])\n",
    "\n",
    "df['metformin'].unique()\n"
   ]
  },
  {
   "cell_type": "markdown",
   "id": "a83d478b",
   "metadata": {},
   "source": [
    "### Feature Engg."
   ]
  },
  {
   "cell_type": "code",
   "execution_count": 14,
   "id": "b906b88e",
   "metadata": {},
   "outputs": [],
   "source": [
    "# Combine the diagnosis codes\n",
    "for col in ['diag_1', 'diag_2', 'diag_3']:\n",
    "    df[col] = df[col].replace('?', np.nan) # Replace '?' with NaN\n",
    "    df[col] = pd.to_numeric(df[col], errors='coerce') # Convert the column to a numerical column\n",
    "    df.loc[(df[col] >= 390) & (df[col] < 400), col] = 1 # Circulatory system\n",
    "    df.loc[(df[col] >= 401) & (df[col] < 410), col] = 2 # Respiratory system\n",
    "    df.loc[(df[col] >= 410) & (df[col] < 460) | (df[col] == 785), col] = 3 # Digestive system\n",
    "    df.loc[(df[col] >= 460) & (df[col] < 520) | (df[col] == 786), col] = 4 # Musculoskeletal system\n",
    "    df.loc[(df[col] >= 520) & (df[col] < 580) | (df[col] == 787), col] = 5 # Genitourinary system\n",
    "    df.loc[(df[col] >= 580) & (df[col] < 630) | (df[col] == 788), col] = 6 # Neoplasms\n",
    "    df.loc[(df[col] >= 800) & (df[col] < 1000), col] = 7 # Injury and poisoning\n",
    "    df.loc[(df[col] >= 710) & (df[col] < 740), col] = 8 # Congenital anomalies\n",
    "    df.loc[(df[col] >= 140) & (df[col] < 240), col] = 9 # Other\n",
    "    df.loc[(df[col] >= 240) & (df[col] < 280), col] = 10 # Other\n",
    "    df.loc[(df[col] >= 680) & (df[col] < 710) | (df[col] >= 782) & (df[col] < 784) | (df[col] >= 790) & (df[col] < 800) | (df[col] >= 240) & (df[col] < 250), col] = 11 # Other\n",
    "    df[col] = df[col].astype('category') # Convert the column to a categorical column\n"
   ]
  },
  {
   "cell_type": "markdown",
   "id": "f43c0187",
   "metadata": {},
   "source": [
    "### Outliers Detection"
   ]
  },
  {
   "cell_type": "code",
   "execution_count": 15,
   "id": "1d4bb476",
   "metadata": {},
   "outputs": [],
   "source": [
    "import pandas as pd\n",
    "\n",
    "# Assuming you have a DataFrame named 'df' with columns of different data types\n",
    "\n",
    "# Check outliers for integer and float columns\n",
    "numeric_columns = df.select_dtypes(include=['int', 'float']).columns\n",
    "for column in numeric_columns:\n",
    "    values = df[column].values\n",
    "    q1 = np.percentile(values, 25)\n",
    "    q3 = np.percentile(values, 75)\n",
    "    iqr = q3 - q1\n",
    "    lower_bound = q1 - 1.5 * iqr\n",
    "    upper_bound = q3 + 1.5 * iqr\n",
    "    without_OL = df[(df[column] > lower_bound) & (df[column] < upper_bound)]\n",
    "    \n",
    "\n",
    "# Check outliers for object/string columns (based on unique values)\n",
    "object_columns = df.select_dtypes(include='object').columns\n",
    "for column in object_columns:\n",
    "    value_counts = df[column].value_counts()\n",
    "    no_outliers = value_counts[value_counts > 2]"
   ]
  },
  {
   "cell_type": "code",
   "execution_count": 16,
   "id": "2cf16207",
   "metadata": {},
   "outputs": [],
   "source": [
    "a=pd.DataFrame(no_outliers)\n",
    "b=pd.DataFrame(without_OL)"
   ]
  },
  {
   "cell_type": "code",
   "execution_count": 17,
   "id": "c23ff66c",
   "metadata": {},
   "outputs": [
    {
     "data": {
      "text/html": [
       "<div>\n",
       "<style scoped>\n",
       "    .dataframe tbody tr th:only-of-type {\n",
       "        vertical-align: middle;\n",
       "    }\n",
       "\n",
       "    .dataframe tbody tr th {\n",
       "        vertical-align: top;\n",
       "    }\n",
       "\n",
       "    .dataframe thead th {\n",
       "        text-align: right;\n",
       "    }\n",
       "</style>\n",
       "<table border=\"1\" class=\"dataframe\">\n",
       "  <thead>\n",
       "    <tr style=\"text-align: right;\">\n",
       "      <th></th>\n",
       "      <th>race</th>\n",
       "      <th>gender</th>\n",
       "      <th>age</th>\n",
       "      <th>admission_type_id</th>\n",
       "      <th>discharge_disposition_id</th>\n",
       "      <th>admission_source_id</th>\n",
       "      <th>time_in_hospital</th>\n",
       "      <th>medical_specialty</th>\n",
       "      <th>num_lab_procedures</th>\n",
       "      <th>num_procedures</th>\n",
       "      <th>...</th>\n",
       "      <th>insulin</th>\n",
       "      <th>glyburide-metformin</th>\n",
       "      <th>glipizide-metformin</th>\n",
       "      <th>glimepiride-pioglitazone</th>\n",
       "      <th>metformin-rosiglitazone</th>\n",
       "      <th>metformin-pioglitazone</th>\n",
       "      <th>change</th>\n",
       "      <th>diabetesMed</th>\n",
       "      <th>readmitted</th>\n",
       "      <th>age_group</th>\n",
       "    </tr>\n",
       "  </thead>\n",
       "  <tbody>\n",
       "    <tr>\n",
       "      <th>0</th>\n",
       "      <td>3.0</td>\n",
       "      <td>0.0</td>\n",
       "      <td>5.0</td>\n",
       "      <td>6.0</td>\n",
       "      <td>25.0</td>\n",
       "      <td>1.0</td>\n",
       "      <td>1.0</td>\n",
       "      <td>37.0</td>\n",
       "      <td>41.0</td>\n",
       "      <td>0.0</td>\n",
       "      <td>...</td>\n",
       "      <td>No</td>\n",
       "      <td>No</td>\n",
       "      <td>No</td>\n",
       "      <td>No</td>\n",
       "      <td>No</td>\n",
       "      <td>No</td>\n",
       "      <td>No</td>\n",
       "      <td>No</td>\n",
       "      <td>2.0</td>\n",
       "      <td>0-20</td>\n",
       "    </tr>\n",
       "    <tr>\n",
       "      <th>1</th>\n",
       "      <td>3.0</td>\n",
       "      <td>0.0</td>\n",
       "      <td>15.0</td>\n",
       "      <td>1.0</td>\n",
       "      <td>1.0</td>\n",
       "      <td>7.0</td>\n",
       "      <td>3.0</td>\n",
       "      <td>18.0</td>\n",
       "      <td>59.0</td>\n",
       "      <td>0.0</td>\n",
       "      <td>...</td>\n",
       "      <td>Up</td>\n",
       "      <td>No</td>\n",
       "      <td>No</td>\n",
       "      <td>No</td>\n",
       "      <td>No</td>\n",
       "      <td>No</td>\n",
       "      <td>Ch</td>\n",
       "      <td>Yes</td>\n",
       "      <td>1.0</td>\n",
       "      <td>0-20</td>\n",
       "    </tr>\n",
       "    <tr>\n",
       "      <th>2</th>\n",
       "      <td>1.0</td>\n",
       "      <td>0.0</td>\n",
       "      <td>25.0</td>\n",
       "      <td>1.0</td>\n",
       "      <td>1.0</td>\n",
       "      <td>7.0</td>\n",
       "      <td>2.0</td>\n",
       "      <td>18.0</td>\n",
       "      <td>11.0</td>\n",
       "      <td>5.0</td>\n",
       "      <td>...</td>\n",
       "      <td>No</td>\n",
       "      <td>No</td>\n",
       "      <td>No</td>\n",
       "      <td>No</td>\n",
       "      <td>No</td>\n",
       "      <td>No</td>\n",
       "      <td>No</td>\n",
       "      <td>Yes</td>\n",
       "      <td>2.0</td>\n",
       "      <td>20-30</td>\n",
       "    </tr>\n",
       "    <tr>\n",
       "      <th>3</th>\n",
       "      <td>3.0</td>\n",
       "      <td>1.0</td>\n",
       "      <td>35.0</td>\n",
       "      <td>1.0</td>\n",
       "      <td>1.0</td>\n",
       "      <td>7.0</td>\n",
       "      <td>2.0</td>\n",
       "      <td>18.0</td>\n",
       "      <td>44.0</td>\n",
       "      <td>1.0</td>\n",
       "      <td>...</td>\n",
       "      <td>Up</td>\n",
       "      <td>No</td>\n",
       "      <td>No</td>\n",
       "      <td>No</td>\n",
       "      <td>No</td>\n",
       "      <td>No</td>\n",
       "      <td>Ch</td>\n",
       "      <td>Yes</td>\n",
       "      <td>2.0</td>\n",
       "      <td>30-40</td>\n",
       "    </tr>\n",
       "    <tr>\n",
       "      <th>4</th>\n",
       "      <td>3.0</td>\n",
       "      <td>1.0</td>\n",
       "      <td>45.0</td>\n",
       "      <td>1.0</td>\n",
       "      <td>1.0</td>\n",
       "      <td>7.0</td>\n",
       "      <td>1.0</td>\n",
       "      <td>18.0</td>\n",
       "      <td>51.0</td>\n",
       "      <td>0.0</td>\n",
       "      <td>...</td>\n",
       "      <td>Steady</td>\n",
       "      <td>No</td>\n",
       "      <td>No</td>\n",
       "      <td>No</td>\n",
       "      <td>No</td>\n",
       "      <td>No</td>\n",
       "      <td>Ch</td>\n",
       "      <td>Yes</td>\n",
       "      <td>2.0</td>\n",
       "      <td>40-50</td>\n",
       "    </tr>\n",
       "  </tbody>\n",
       "</table>\n",
       "<p>5 rows × 47 columns</p>\n",
       "</div>"
      ],
      "text/plain": [
       "   race  gender   age  admission_type_id  discharge_disposition_id  \\\n",
       "0   3.0     0.0   5.0                6.0                      25.0   \n",
       "1   3.0     0.0  15.0                1.0                       1.0   \n",
       "2   1.0     0.0  25.0                1.0                       1.0   \n",
       "3   3.0     1.0  35.0                1.0                       1.0   \n",
       "4   3.0     1.0  45.0                1.0                       1.0   \n",
       "\n",
       "   admission_source_id  time_in_hospital  medical_specialty  \\\n",
       "0                  1.0               1.0               37.0   \n",
       "1                  7.0               3.0               18.0   \n",
       "2                  7.0               2.0               18.0   \n",
       "3                  7.0               2.0               18.0   \n",
       "4                  7.0               1.0               18.0   \n",
       "\n",
       "   num_lab_procedures  num_procedures  ...  insulin  glyburide-metformin  \\\n",
       "0                41.0             0.0  ...       No                   No   \n",
       "1                59.0             0.0  ...       Up                   No   \n",
       "2                11.0             5.0  ...       No                   No   \n",
       "3                44.0             1.0  ...       Up                   No   \n",
       "4                51.0             0.0  ...   Steady                   No   \n",
       "\n",
       "   glipizide-metformin  glimepiride-pioglitazone metformin-rosiglitazone  \\\n",
       "0                   No                        No                      No   \n",
       "1                   No                        No                      No   \n",
       "2                   No                        No                      No   \n",
       "3                   No                        No                      No   \n",
       "4                   No                        No                      No   \n",
       "\n",
       "  metformin-pioglitazone change  diabetesMed readmitted age_group  \n",
       "0                     No     No           No        2.0      0-20  \n",
       "1                     No     Ch          Yes        1.0      0-20  \n",
       "2                     No     No          Yes        2.0     20-30  \n",
       "3                     No     Ch          Yes        2.0     30-40  \n",
       "4                     No     Ch          Yes        2.0     40-50  \n",
       "\n",
       "[5 rows x 47 columns]"
      ]
     },
     "execution_count": 17,
     "metadata": {},
     "output_type": "execute_result"
    }
   ],
   "source": [
    "df_n= pd.concat([b,a])\n",
    "df_n.head()"
   ]
  },
  {
   "cell_type": "code",
   "execution_count": 18,
   "id": "7dc23c69",
   "metadata": {},
   "outputs": [],
   "source": [
    "df_n.drop(df_n.tail(2).index,inplace=True) # drop last n rows"
   ]
  },
  {
   "cell_type": "code",
   "execution_count": 19,
   "id": "e0cbf609",
   "metadata": {},
   "outputs": [],
   "source": [
    "from sklearn.linear_model import Lasso\n",
    "from sklearn.feature_selection import SelectFromModel\n",
    "from sklearn.ensemble import RandomForestClassifier\n",
    "from sklearn.model_selection import train_test_split # Import train_test_split function\n",
    "from sklearn import metrics #Import scikit-learn metrics module for accuracy calculation\n",
    "from sklearn.metrics import classification_report"
   ]
  },
  {
   "cell_type": "markdown",
   "id": "4eb9ce92",
   "metadata": {},
   "source": [
    "## Lasso Regression"
   ]
  },
  {
   "cell_type": "code",
   "execution_count": 20,
   "id": "9ba12381",
   "metadata": {},
   "outputs": [
    {
     "name": "stdout",
     "output_type": "stream",
     "text": [
      "Selected features: Index(['num_lab_procedures', 'readmitted'], dtype='object')\n"
     ]
    }
   ],
   "source": [
    "# Perform Lasso regression to select the most relevant features\n",
    "X = df.select_dtypes(include=np.number)\n",
    "y = df['readmitted']\n",
    "model = Lasso(alpha=0.1)\n",
    "model.fit(X, y)\n",
    "features = X.columns\n",
    "selected_features = features[model.coef_ != 0]\n",
    "print('Selected features:', selected_features)"
   ]
  },
  {
   "cell_type": "markdown",
   "id": "e3dab744",
   "metadata": {},
   "source": [
    "## Random Forest"
   ]
  },
  {
   "cell_type": "code",
   "execution_count": 20,
   "id": "9737b87a",
   "metadata": {},
   "outputs": [
    {
     "data": {
      "image/png": "[encoded data removed]",
      "text/plain": [
       "<Figure size 432x288 with 1 Axes>"
      ]
     },
     "metadata": {
      "needs_background": "light"
     },
     "output_type": "display_data"
    }
   ],
   "source": [
    "# Perform Random Forest classification to determine feature importances\n",
    "clf = RandomForestClassifier()\n",
    "clf.fit(X, y)\n",
    "importances = clf.feature_importances_\n",
    "indices = np.argsort(importances)[::-1]\n",
    "plt.bar(range(len(indices)), importances[indices])\n",
    "plt.xticks(range(len(indices)), X.columns[indices], rotation='vertical')\n",
    "plt.show()"
   ]
  },
  {
   "cell_type": "markdown",
   "id": "f0b27aeb",
   "metadata": {},
   "source": [
    "## train test split"
   ]
  },
  {
   "cell_type": "code",
   "execution_count": 21,
   "id": "a33848a5",
   "metadata": {
    "scrolled": true
   },
   "outputs": [
    {
     "data": {
      "text/html": [
       "<div>\n",
       "<style scoped>\n",
       "    .dataframe tbody tr th:only-of-type {\n",
       "        vertical-align: middle;\n",
       "    }\n",
       "\n",
       "    .dataframe tbody tr th {\n",
       "        vertical-align: top;\n",
       "    }\n",
       "\n",
       "    .dataframe thead th {\n",
       "        text-align: right;\n",
       "    }\n",
       "</style>\n",
       "<table border=\"1\" class=\"dataframe\">\n",
       "  <thead>\n",
       "    <tr style=\"text-align: right;\">\n",
       "      <th></th>\n",
       "      <th>race</th>\n",
       "      <th>gender</th>\n",
       "      <th>age</th>\n",
       "      <th>admission_type_id</th>\n",
       "      <th>discharge_disposition_id</th>\n",
       "      <th>admission_source_id</th>\n",
       "      <th>time_in_hospital</th>\n",
       "      <th>medical_specialty</th>\n",
       "      <th>num_lab_procedures</th>\n",
       "      <th>num_procedures</th>\n",
       "      <th>...</th>\n",
       "      <th>insulin</th>\n",
       "      <th>glyburide-metformin</th>\n",
       "      <th>glipizide-metformin</th>\n",
       "      <th>glimepiride-pioglitazone</th>\n",
       "      <th>metformin-rosiglitazone</th>\n",
       "      <th>metformin-pioglitazone</th>\n",
       "      <th>change</th>\n",
       "      <th>diabetesMed</th>\n",
       "      <th>readmitted</th>\n",
       "      <th>age_group</th>\n",
       "    </tr>\n",
       "  </thead>\n",
       "  <tbody>\n",
       "    <tr>\n",
       "      <th>1</th>\n",
       "      <td>3.0</td>\n",
       "      <td>0.0</td>\n",
       "      <td>15.0</td>\n",
       "      <td>1.0</td>\n",
       "      <td>1.0</td>\n",
       "      <td>7.0</td>\n",
       "      <td>3.0</td>\n",
       "      <td>18.0</td>\n",
       "      <td>59.0</td>\n",
       "      <td>0.0</td>\n",
       "      <td>...</td>\n",
       "      <td>Up</td>\n",
       "      <td>No</td>\n",
       "      <td>No</td>\n",
       "      <td>No</td>\n",
       "      <td>No</td>\n",
       "      <td>No</td>\n",
       "      <td>Ch</td>\n",
       "      <td>Yes</td>\n",
       "      <td>1.0</td>\n",
       "      <td>0-20</td>\n",
       "    </tr>\n",
       "    <tr>\n",
       "      <th>3</th>\n",
       "      <td>3.0</td>\n",
       "      <td>1.0</td>\n",
       "      <td>35.0</td>\n",
       "      <td>1.0</td>\n",
       "      <td>1.0</td>\n",
       "      <td>7.0</td>\n",
       "      <td>2.0</td>\n",
       "      <td>18.0</td>\n",
       "      <td>44.0</td>\n",
       "      <td>1.0</td>\n",
       "      <td>...</td>\n",
       "      <td>Up</td>\n",
       "      <td>No</td>\n",
       "      <td>No</td>\n",
       "      <td>No</td>\n",
       "      <td>No</td>\n",
       "      <td>No</td>\n",
       "      <td>Ch</td>\n",
       "      <td>Yes</td>\n",
       "      <td>2.0</td>\n",
       "      <td>30-40</td>\n",
       "    </tr>\n",
       "    <tr>\n",
       "      <th>4</th>\n",
       "      <td>3.0</td>\n",
       "      <td>1.0</td>\n",
       "      <td>45.0</td>\n",
       "      <td>1.0</td>\n",
       "      <td>1.0</td>\n",
       "      <td>7.0</td>\n",
       "      <td>1.0</td>\n",
       "      <td>18.0</td>\n",
       "      <td>51.0</td>\n",
       "      <td>0.0</td>\n",
       "      <td>...</td>\n",
       "      <td>Steady</td>\n",
       "      <td>No</td>\n",
       "      <td>No</td>\n",
       "      <td>No</td>\n",
       "      <td>No</td>\n",
       "      <td>No</td>\n",
       "      <td>Ch</td>\n",
       "      <td>Yes</td>\n",
       "      <td>2.0</td>\n",
       "      <td>40-50</td>\n",
       "    </tr>\n",
       "    <tr>\n",
       "      <th>5</th>\n",
       "      <td>3.0</td>\n",
       "      <td>1.0</td>\n",
       "      <td>55.0</td>\n",
       "      <td>2.0</td>\n",
       "      <td>1.0</td>\n",
       "      <td>2.0</td>\n",
       "      <td>3.0</td>\n",
       "      <td>18.0</td>\n",
       "      <td>31.0</td>\n",
       "      <td>6.0</td>\n",
       "      <td>...</td>\n",
       "      <td>Steady</td>\n",
       "      <td>No</td>\n",
       "      <td>No</td>\n",
       "      <td>No</td>\n",
       "      <td>No</td>\n",
       "      <td>No</td>\n",
       "      <td>No</td>\n",
       "      <td>Yes</td>\n",
       "      <td>1.0</td>\n",
       "      <td>50-60</td>\n",
       "    </tr>\n",
       "    <tr>\n",
       "      <th>7</th>\n",
       "      <td>3.0</td>\n",
       "      <td>1.0</td>\n",
       "      <td>75.0</td>\n",
       "      <td>1.0</td>\n",
       "      <td>1.0</td>\n",
       "      <td>7.0</td>\n",
       "      <td>5.0</td>\n",
       "      <td>18.0</td>\n",
       "      <td>73.0</td>\n",
       "      <td>0.0</td>\n",
       "      <td>...</td>\n",
       "      <td>No</td>\n",
       "      <td>No</td>\n",
       "      <td>No</td>\n",
       "      <td>No</td>\n",
       "      <td>No</td>\n",
       "      <td>No</td>\n",
       "      <td>No</td>\n",
       "      <td>Yes</td>\n",
       "      <td>1.0</td>\n",
       "      <td>70-80</td>\n",
       "    </tr>\n",
       "    <tr>\n",
       "      <th>...</th>\n",
       "      <td>...</td>\n",
       "      <td>...</td>\n",
       "      <td>...</td>\n",
       "      <td>...</td>\n",
       "      <td>...</td>\n",
       "      <td>...</td>\n",
       "      <td>...</td>\n",
       "      <td>...</td>\n",
       "      <td>...</td>\n",
       "      <td>...</td>\n",
       "      <td>...</td>\n",
       "      <td>...</td>\n",
       "      <td>...</td>\n",
       "      <td>...</td>\n",
       "      <td>...</td>\n",
       "      <td>...</td>\n",
       "      <td>...</td>\n",
       "      <td>...</td>\n",
       "      <td>...</td>\n",
       "      <td>...</td>\n",
       "      <td>...</td>\n",
       "    </tr>\n",
       "    <tr>\n",
       "      <th>101761</th>\n",
       "      <td>1.0</td>\n",
       "      <td>1.0</td>\n",
       "      <td>75.0</td>\n",
       "      <td>1.0</td>\n",
       "      <td>3.0</td>\n",
       "      <td>7.0</td>\n",
       "      <td>3.0</td>\n",
       "      <td>18.0</td>\n",
       "      <td>51.0</td>\n",
       "      <td>0.0</td>\n",
       "      <td>...</td>\n",
       "      <td>Down</td>\n",
       "      <td>No</td>\n",
       "      <td>No</td>\n",
       "      <td>No</td>\n",
       "      <td>No</td>\n",
       "      <td>No</td>\n",
       "      <td>Ch</td>\n",
       "      <td>Yes</td>\n",
       "      <td>1.0</td>\n",
       "      <td>70-80</td>\n",
       "    </tr>\n",
       "    <tr>\n",
       "      <th>101762</th>\n",
       "      <td>1.0</td>\n",
       "      <td>0.0</td>\n",
       "      <td>85.0</td>\n",
       "      <td>1.0</td>\n",
       "      <td>4.0</td>\n",
       "      <td>5.0</td>\n",
       "      <td>5.0</td>\n",
       "      <td>18.0</td>\n",
       "      <td>33.0</td>\n",
       "      <td>3.0</td>\n",
       "      <td>...</td>\n",
       "      <td>Steady</td>\n",
       "      <td>No</td>\n",
       "      <td>No</td>\n",
       "      <td>No</td>\n",
       "      <td>No</td>\n",
       "      <td>No</td>\n",
       "      <td>No</td>\n",
       "      <td>Yes</td>\n",
       "      <td>2.0</td>\n",
       "      <td>80-90</td>\n",
       "    </tr>\n",
       "    <tr>\n",
       "      <th>101763</th>\n",
       "      <td>3.0</td>\n",
       "      <td>1.0</td>\n",
       "      <td>75.0</td>\n",
       "      <td>1.0</td>\n",
       "      <td>1.0</td>\n",
       "      <td>7.0</td>\n",
       "      <td>1.0</td>\n",
       "      <td>18.0</td>\n",
       "      <td>53.0</td>\n",
       "      <td>0.0</td>\n",
       "      <td>...</td>\n",
       "      <td>Down</td>\n",
       "      <td>No</td>\n",
       "      <td>No</td>\n",
       "      <td>No</td>\n",
       "      <td>No</td>\n",
       "      <td>No</td>\n",
       "      <td>Ch</td>\n",
       "      <td>Yes</td>\n",
       "      <td>2.0</td>\n",
       "      <td>70-80</td>\n",
       "    </tr>\n",
       "    <tr>\n",
       "      <th>101764</th>\n",
       "      <td>3.0</td>\n",
       "      <td>0.0</td>\n",
       "      <td>85.0</td>\n",
       "      <td>2.0</td>\n",
       "      <td>3.0</td>\n",
       "      <td>7.0</td>\n",
       "      <td>10.0</td>\n",
       "      <td>62.0</td>\n",
       "      <td>45.0</td>\n",
       "      <td>2.0</td>\n",
       "      <td>...</td>\n",
       "      <td>Up</td>\n",
       "      <td>No</td>\n",
       "      <td>No</td>\n",
       "      <td>No</td>\n",
       "      <td>No</td>\n",
       "      <td>No</td>\n",
       "      <td>Ch</td>\n",
       "      <td>Yes</td>\n",
       "      <td>2.0</td>\n",
       "      <td>80-90</td>\n",
       "    </tr>\n",
       "    <tr>\n",
       "      <th>101765</th>\n",
       "      <td>3.0</td>\n",
       "      <td>1.0</td>\n",
       "      <td>75.0</td>\n",
       "      <td>1.0</td>\n",
       "      <td>1.0</td>\n",
       "      <td>7.0</td>\n",
       "      <td>6.0</td>\n",
       "      <td>18.0</td>\n",
       "      <td>13.0</td>\n",
       "      <td>3.0</td>\n",
       "      <td>...</td>\n",
       "      <td>No</td>\n",
       "      <td>No</td>\n",
       "      <td>No</td>\n",
       "      <td>No</td>\n",
       "      <td>No</td>\n",
       "      <td>No</td>\n",
       "      <td>No</td>\n",
       "      <td>No</td>\n",
       "      <td>2.0</td>\n",
       "      <td>70-80</td>\n",
       "    </tr>\n",
       "  </tbody>\n",
       "</table>\n",
       "<p>91844 rows × 47 columns</p>\n",
       "</div>"
      ],
      "text/plain": [
       "        race  gender   age  admission_type_id  discharge_disposition_id  \\\n",
       "1        3.0     0.0  15.0                1.0                       1.0   \n",
       "3        3.0     1.0  35.0                1.0                       1.0   \n",
       "4        3.0     1.0  45.0                1.0                       1.0   \n",
       "5        3.0     1.0  55.0                2.0                       1.0   \n",
       "7        3.0     1.0  75.0                1.0                       1.0   \n",
       "...      ...     ...   ...                ...                       ...   \n",
       "101761   1.0     1.0  75.0                1.0                       3.0   \n",
       "101762   1.0     0.0  85.0                1.0                       4.0   \n",
       "101763   3.0     1.0  75.0                1.0                       1.0   \n",
       "101764   3.0     0.0  85.0                2.0                       3.0   \n",
       "101765   3.0     1.0  75.0                1.0                       1.0   \n",
       "\n",
       "        admission_source_id  time_in_hospital  medical_specialty  \\\n",
       "1                       7.0               3.0               18.0   \n",
       "3                       7.0               2.0               18.0   \n",
       "4                       7.0               1.0               18.0   \n",
       "5                       2.0               3.0               18.0   \n",
       "7                       7.0               5.0               18.0   \n",
       "...                     ...               ...                ...   \n",
       "101761                  7.0               3.0               18.0   \n",
       "101762                  5.0               5.0               18.0   \n",
       "101763                  7.0               1.0               18.0   \n",
       "101764                  7.0              10.0               62.0   \n",
       "101765                  7.0               6.0               18.0   \n",
       "\n",
       "        num_lab_procedures  num_procedures  ...  insulin  glyburide-metformin  \\\n",
       "1                     59.0             0.0  ...       Up                   No   \n",
       "3                     44.0             1.0  ...       Up                   No   \n",
       "4                     51.0             0.0  ...   Steady                   No   \n",
       "5                     31.0             6.0  ...   Steady                   No   \n",
       "7                     73.0             0.0  ...       No                   No   \n",
       "...                    ...             ...  ...      ...                  ...   \n",
       "101761                51.0             0.0  ...     Down                   No   \n",
       "101762                33.0             3.0  ...   Steady                   No   \n",
       "101763                53.0             0.0  ...     Down                   No   \n",
       "101764                45.0             2.0  ...       Up                   No   \n",
       "101765                13.0             3.0  ...       No                   No   \n",
       "\n",
       "        glipizide-metformin  glimepiride-pioglitazone metformin-rosiglitazone  \\\n",
       "1                        No                        No                      No   \n",
       "3                        No                        No                      No   \n",
       "4                        No                        No                      No   \n",
       "5                        No                        No                      No   \n",
       "7                        No                        No                      No   \n",
       "...                     ...                       ...                     ...   \n",
       "101761                   No                        No                      No   \n",
       "101762                   No                        No                      No   \n",
       "101763                   No                        No                      No   \n",
       "101764                   No                        No                      No   \n",
       "101765                   No                        No                      No   \n",
       "\n",
       "       metformin-pioglitazone change  diabetesMed readmitted age_group  \n",
       "1                          No     Ch          Yes        1.0      0-20  \n",
       "3                          No     Ch          Yes        2.0     30-40  \n",
       "4                          No     Ch          Yes        2.0     40-50  \n",
       "5                          No     No          Yes        1.0     50-60  \n",
       "7                          No     No          Yes        1.0     70-80  \n",
       "...                       ...    ...          ...        ...       ...  \n",
       "101761                     No     Ch          Yes        1.0     70-80  \n",
       "101762                     No     No          Yes        2.0     80-90  \n",
       "101763                     No     Ch          Yes        2.0     70-80  \n",
       "101764                     No     Ch          Yes        2.0     80-90  \n",
       "101765                     No     No           No        2.0     70-80  \n",
       "\n",
       "[91844 rows x 47 columns]"
      ]
     },
     "execution_count": 21,
     "metadata": {},
     "output_type": "execute_result"
    }
   ],
   "source": [
    "df_n.dropna() # drop last n rows"
   ]
  },
  {
   "cell_type": "code",
   "execution_count": 22,
   "id": "ef5ec939",
   "metadata": {},
   "outputs": [],
   "source": [
    "feature_cols = df_n.select_dtypes(include=['int', 'float']).columns"
   ]
  },
  {
   "cell_type": "code",
   "execution_count": 23,
   "id": "787fa6b4",
   "metadata": {},
   "outputs": [],
   "source": [
    "#split dataset in features and target variable\n",
    "\n",
    "X = df_n[feature_cols] # Features\n",
    "y = df_n.readmitted # Target variable"
   ]
  },
  {
   "cell_type": "code",
   "execution_count": 24,
   "id": "cd9eaa57",
   "metadata": {},
   "outputs": [],
   "source": [
    "# Split dataset into training set and test set\n",
    "X_train, X_test, y_train, y_test = train_test_split(X, y, test_size=0.3, random_state=1) # 70% training and 30% test\n"
   ]
  },
  {
   "cell_type": "markdown",
   "id": "f40f7139",
   "metadata": {},
   "source": [
    "## Decision Tree"
   ]
  },
  {
   "cell_type": "markdown",
   "id": "9bbc0314",
   "metadata": {},
   "source": [
    "criterion : optional (default=”gini”) or Choose attribute selection measure. This parameter allows us to use the different-different attribute selection measure. Supported criteria are “gini” for the Gini index and “entropy” for the information gain.\n",
    "\n",
    "splitter : string, optional (default=”best”) or Split Strategy. This parameter allows us to choose the split strategy. Supported strategies are “best” to choose the best split and “random” to choose the best random split.\n",
    "\n",
    "max_depth : int or None, optional (default=None) or Maximum Depth of a Tree. The maximum depth of the tree. If None, then nodes are expanded until all the leaves contain less than min_samples_split samples. The higher value of maximum depth causes overfitting, and a lower value causes underfitting (Source)."
   ]
  },
  {
   "cell_type": "code",
   "execution_count": 25,
   "id": "0f603123",
   "metadata": {},
   "outputs": [],
   "source": [
    "# Create Decision Tree classifer object\n",
    "clf = DecisionTreeClassifier()\n",
    "\n",
    "# Train Decision Tree Classifer\n",
    "clf = clf.fit(X_train,y_train)\n",
    "\n",
    "#Predict the response for test dataset\n",
    "y_pred = clf.predict(X_test)\n"
   ]
  },
  {
   "cell_type": "code",
   "execution_count": 26,
   "id": "639c4b0a",
   "metadata": {},
   "outputs": [
    {
     "name": "stdout",
     "output_type": "stream",
     "text": [
      "Accuracy: 1.0\n",
      "Classification report:\n",
      "               precision    recall  f1-score   support\n",
      "\n",
      "         0.0       1.00      1.00      1.00      3320\n",
      "         1.0       1.00      1.00      1.00     10661\n",
      "         2.0       1.00      1.00      1.00     16549\n",
      "\n",
      "    accuracy                           1.00     30530\n",
      "   macro avg       1.00      1.00      1.00     30530\n",
      "weighted avg       1.00      1.00      1.00     30530\n",
      "\n"
     ]
    }
   ],
   "source": [
    "# Create Decision Tree classifer object\n",
    "clf = DecisionTreeClassifier(criterion=\"entropy\", max_depth=3)\n",
    "\n",
    "# Train Decision Tree Classifer\n",
    "clf = clf.fit(X_train,y_train)\n",
    "\n",
    "#Predict the response for test dataset\n",
    "y_pred = clf.predict(X_test)\n",
    "\n",
    "# Model Accuracy, how often is the classifier correct?\n",
    "print(\"Accuracy:\",metrics.accuracy_score(y_test, y_pred))\n",
    "report_CT_ENT = classification_report(y_test, y_pred)\n",
    "print(\"Classification report:\\n\", report_CT_ENT)\n"
   ]
  },
  {
   "cell_type": "code",
   "execution_count": 27,
   "id": "4d40bff0",
   "metadata": {},
   "outputs": [
    {
     "name": "stdout",
     "output_type": "stream",
     "text": [
      "Model accuracy score with criterion entropy: 1.0000\n"
     ]
    },
    {
     "data": {
      "text/plain": [
       "[Text(0.6, 0.8333333333333334, 'X[15] <= 1.5\\nentropy = 1.366\\nsamples = 71236\\nvalue = [8037, 24884, 38315]'),\n",
       " Text(0.4, 0.5, 'X[15] <= 0.5\\nentropy = 0.802\\nsamples = 32921\\nvalue = [8037, 24884, 0]'),\n",
       " Text(0.2, 0.16666666666666666, 'entropy = 0.0\\nsamples = 8037\\nvalue = [8037, 0, 0]'),\n",
       " Text(0.6, 0.16666666666666666, 'entropy = 0.0\\nsamples = 24884\\nvalue = [0, 24884, 0]'),\n",
       " Text(0.8, 0.5, 'entropy = 0.0\\nsamples = 38315\\nvalue = [0, 0, 38315]')]"
      ]
     },
     "execution_count": 27,
     "metadata": {},
     "output_type": "execute_result"
    },
    {
     "data": {
      "image/png": "[encoded data removed]",
      "text/plain": [
       "<Figure size 864x576 with 1 Axes>"
      ]
     },
     "metadata": {
      "needs_background": "light"
     },
     "output_type": "display_data"
    }
   ],
   "source": [
    "from sklearn.metrics import accuracy_score\n",
    "print('Model accuracy score with criterion entropy: {0:0.4f}'. format(accuracy_score(y_test, y_pred)))\n",
    "y_pred_train = clf.predict(X_train)\n",
    "y_pred_train\n",
    "plt.figure(figsize=(12,8))\n",
    "from sklearn import tree\n",
    "tree.plot_tree(clf.fit(X_train, y_train))"
   ]
  },
  {
   "cell_type": "code",
   "execution_count": 28,
   "id": "9dacfcbe",
   "metadata": {},
   "outputs": [
    {
     "name": "stdout",
     "output_type": "stream",
     "text": [
      "Accuracy: 1.0\n",
      "Classification report:\n",
      "               precision    recall  f1-score   support\n",
      "\n",
      "         0.0       1.00      1.00      1.00      3320\n",
      "         1.0       1.00      1.00      1.00     10661\n",
      "         2.0       1.00      1.00      1.00     16549\n",
      "\n",
      "    accuracy                           1.00     30530\n",
      "   macro avg       1.00      1.00      1.00     30530\n",
      "weighted avg       1.00      1.00      1.00     30530\n",
      "\n"
     ]
    }
   ],
   "source": [
    "# Create Decision Tree classifer object\n",
    "clf_gini = DecisionTreeClassifier(criterion=\"gini\", max_depth=3)\n",
    "\n",
    "# Train Decision Tree Classifer\n",
    "clf_gini = clf_gini.fit(X_train,y_train)\n",
    "\n",
    "#Predict the response for test dataset\n",
    "y_pred = clf_gini.predict(X_test)\n",
    "\n",
    "# Model Accuracy, how often is the classifier correct?\n",
    "print(\"Accuracy:\",metrics.accuracy_score(y_test, y_pred))\n",
    "report_CT_G = classification_report(y_test, y_pred)\n",
    "print(\"Classification report:\\n\", report_CT_G)\n"
   ]
  },
  {
   "cell_type": "code",
   "execution_count": 29,
   "id": "000374c8",
   "metadata": {},
   "outputs": [
    {
     "data": {
      "text/plain": [
       "[Text(0.6, 0.8333333333333334, 'X[15] <= 1.5\\ngini = 0.576\\nsamples = 71236\\nvalue = [8037, 24884, 38315]'),\n",
       " Text(0.4, 0.5, 'X[15] <= 0.5\\ngini = 0.369\\nsamples = 32921\\nvalue = [8037, 24884, 0]'),\n",
       " Text(0.2, 0.16666666666666666, 'gini = 0.0\\nsamples = 8037\\nvalue = [8037, 0, 0]'),\n",
       " Text(0.6, 0.16666666666666666, 'gini = 0.0\\nsamples = 24884\\nvalue = [0, 24884, 0]'),\n",
       " Text(0.8, 0.5, 'gini = 0.0\\nsamples = 38315\\nvalue = [0, 0, 38315]')]"
      ]
     },
     "execution_count": 29,
     "metadata": {},
     "output_type": "execute_result"
    },
    {
     "data": {
      "image/png": "[encoded data removed]",
      "text/plain": [
       "<Figure size 864x576 with 1 Axes>"
      ]
     },
     "metadata": {
      "needs_background": "light"
     },
     "output_type": "display_data"
    }
   ],
   "source": [
    "# Visualize decision tree\n",
    "plt.figure(figsize=(12,8))\n",
    "tree.plot_tree(clf_gini.fit(X_train, y_train))"
   ]
  },
  {
   "cell_type": "markdown",
   "id": "f42412dd",
   "metadata": {},
   "source": [
    "## K-Nearest Neighbor"
   ]
  },
  {
   "cell_type": "code",
   "execution_count": 30,
   "id": "aaa07d88",
   "metadata": {},
   "outputs": [
    {
     "name": "stdout",
     "output_type": "stream",
     "text": [
      "Accuracy: 0.5704880445463478\n",
      "Classification report:\n",
      "               precision    recall  f1-score   support\n",
      "\n",
      "         0.0       0.30      0.16      0.21      3320\n",
      "         1.0       0.46      0.46      0.46     10661\n",
      "         2.0       0.66      0.73      0.69     16549\n",
      "\n",
      "    accuracy                           0.57     30530\n",
      "   macro avg       0.47      0.45      0.45     30530\n",
      "weighted avg       0.55      0.57      0.56     30530\n",
      "\n"
     ]
    }
   ],
   "source": [
    "from sklearn.neighbors import KNeighborsClassifier\n",
    "\n",
    "# Create a KNN classifier\n",
    "knn = KNeighborsClassifier(n_neighbors=5)\n",
    "\n",
    "# Train the model on the training data\n",
    "knn.fit(X_train, y_train)\n",
    "\n",
    "# Use the trained model to make predictions on the test data\n",
    "y_pred = knn.predict(X_test)\n",
    "\n",
    "# Evaluate the accuracy of the model\n",
    "accuracy = accuracy_score(y_test, y_pred)\n",
    "print(\"Accuracy:\", accuracy)\n",
    "report_KNN = classification_report(y_test, y_pred)\n",
    "print(\"Classification report:\\n\", report_KNN)"
   ]
  },
  {
   "cell_type": "code",
   "execution_count": 31,
   "id": "b5eb2b22",
   "metadata": {},
   "outputs": [],
   "source": [
    "from sklearn.model_selection import GridSearchCV\n",
    "\n",
    "'''param_grid = {\n",
    "    'n_neighbors': [3, 5, 7],\n",
    "    'weights': ['uniform', 'distance'],\n",
    "    'p': [1, 2]\n",
    "}'''\n",
    "\n",
    "from sklearn.model_selection import GridSearchCV\n",
    "\n",
    "param_grid = [\n",
    "    {'n_neighbors': [3, 5, 7], 'weights': ['uniform', 'distance'], 'p': [1, 2]}\n",
    "]"
   ]
  },
  {
   "cell_type": "code",
   "execution_count": 32,
   "id": "bb19ba8b",
   "metadata": {},
   "outputs": [
    {
     "data": {
      "text/plain": [
       "GridSearchCV(cv=5, estimator=KNeighborsClassifier(),\n",
       "             param_grid=[{'n_neighbors': [3, 5, 7], 'p': [1, 2],\n",
       "                          'weights': ['uniform', 'distance']}])"
      ]
     },
     "execution_count": 32,
     "metadata": {},
     "output_type": "execute_result"
    }
   ],
   "source": [
    "grid_search = GridSearchCV(knn, param_grid, cv=5)\n",
    "grid_search.fit(X_train, y_train)"
   ]
  },
  {
   "cell_type": "code",
   "execution_count": 33,
   "id": "192a5683",
   "metadata": {},
   "outputs": [
    {
     "name": "stdout",
     "output_type": "stream",
     "text": [
      "Accuracy: 0.7116934163118245\n"
     ]
    }
   ],
   "source": [
    "best_params = grid_search.best_params_\n",
    "\n",
    "best_knn = KNeighborsClassifier(**best_params)\n",
    "best_knn.fit(X_train, y_train)\n",
    "y_pred = best_knn.predict(X_test)\n",
    "accuracy = accuracy_score(y_test, y_pred)\n",
    "print(\"Accuracy:\", accuracy)"
   ]
  },
  {
   "cell_type": "code",
   "execution_count": 35,
   "id": "4ba3ae7e",
   "metadata": {
    "scrolled": true
   },
   "outputs": [
    {
     "name": "stdout",
     "output_type": "stream",
     "text": [
      "Classification report:\n",
      "               precision    recall  f1-score   support\n",
      "\n",
      "         0.0       0.69      0.17      0.28      3320\n",
      "         1.0       0.65      0.61      0.63     10661\n",
      "         2.0       0.75      0.89      0.81     16549\n",
      "\n",
      "    accuracy                           0.71     30530\n",
      "   macro avg       0.69      0.56      0.57     30530\n",
      "weighted avg       0.71      0.71      0.69     30530\n",
      "\n"
     ]
    }
   ],
   "source": [
    "report_KNN_CV = classification_report(y_test, y_pred)\n",
    "print(\"Classification report:\\n\",report_KNN_CV)"
   ]
  },
  {
   "cell_type": "markdown",
   "id": "80af94c8",
   "metadata": {},
   "source": [
    "## Gradient Boost Classifier"
   ]
  },
  {
   "cell_type": "code",
   "execution_count": 30,
   "id": "e8f3eba8",
   "metadata": {},
   "outputs": [
    {
     "name": "stdout",
     "output_type": "stream",
     "text": [
      "Accuracy: 1.0\n",
      "Classification report:\n",
      "               precision    recall  f1-score   support\n",
      "\n",
      "         0.0       1.00      1.00      1.00      3320\n",
      "         1.0       1.00      1.00      1.00     10661\n",
      "         2.0       1.00      1.00      1.00     16549\n",
      "\n",
      "    accuracy                           1.00     30530\n",
      "   macro avg       1.00      1.00      1.00     30530\n",
      "weighted avg       1.00      1.00      1.00     30530\n",
      "\n"
     ]
    }
   ],
   "source": [
    "from sklearn.ensemble import GradientBoostingClassifier\n",
    "\n",
    "# Initialize the gradient boosting classifier with default parameters\n",
    "clf_GB = GradientBoostingClassifier()\n",
    "\n",
    "# Fit the classifier to the training data\n",
    "clf_GB.fit(X_train, y_train)\n",
    "\n",
    "# Make predictions on the test data\n",
    "y_pred = clf_GB.predict(X_test)\n",
    "\n",
    "# Calculate the accuracy of the predictions\n",
    "accuracy = accuracy_score(y_test, y_pred)\n",
    "print(\"Accuracy:\", accuracy)\n",
    "report_GB = classification_report(y_test, y_pred)\n",
    "print(\"Classification report:\\n\", report_GB)"
   ]
  },
  {
   "cell_type": "markdown",
   "id": "c4c87622",
   "metadata": {},
   "source": [
    "## Gaussian Naive Bayes "
   ]
  },
  {
   "cell_type": "code",
   "execution_count": 31,
   "id": "155a3f6a",
   "metadata": {},
   "outputs": [
    {
     "name": "stdout",
     "output_type": "stream",
     "text": [
      "Accuracy: 1.0\n",
      "Classification report:\n",
      "               precision    recall  f1-score   support\n",
      "\n",
      "         0.0       1.00      1.00      1.00      3320\n",
      "         1.0       1.00      1.00      1.00     10661\n",
      "         2.0       1.00      1.00      1.00     16549\n",
      "\n",
      "    accuracy                           1.00     30530\n",
      "   macro avg       1.00      1.00      1.00     30530\n",
      "weighted avg       1.00      1.00      1.00     30530\n",
      "\n"
     ]
    }
   ],
   "source": [
    "from sklearn.naive_bayes import GaussianNB\n",
    "\n",
    "# Train the Gaussian Naive Bayes model\n",
    "nb_model = GaussianNB()\n",
    "nb_model.fit(X_train, y_train)\n",
    "\n",
    "# Make predictions on the testing set\n",
    "y_pred = nb_model.predict(X_test)\n",
    "\n",
    "# Evaluate the model performance\n",
    "accuracy = accuracy_score(y_test, y_pred)\n",
    "report_GNB = classification_report(y_test, y_pred)\n",
    "\n",
    "print(\"Accuracy:\", accuracy)\n",
    "print(\"Classification report:\\n\", report_GNB)"
   ]
  },
  {
   "cell_type": "markdown",
   "id": "61dc5aec",
   "metadata": {},
   "source": [
    "### Cat Boost"
   ]
  },
  {
   "cell_type": "code",
   "execution_count": 33,
   "id": "dc7685a0",
   "metadata": {},
   "outputs": [
    {
     "name": "stdout",
     "output_type": "stream",
     "text": [
      "Collecting catboost\n",
      "  Downloading catboost-1.2-cp39-cp39-win_amd64.whl (101.0 MB)\n",
      "Requirement already satisfied: scipy in c:\\users\\azhag\\anaconda3\\lib\\site-packages (from catboost) (1.7.3)\n",
      "Requirement already satisfied: six in c:\\users\\azhag\\anaconda3\\lib\\site-packages (from catboost) (1.16.0)\n",
      "Requirement already satisfied: pandas>=0.24 in c:\\users\\azhag\\anaconda3\\lib\\site-packages (from catboost) (1.4.2)\n",
      "Requirement already satisfied: matplotlib in c:\\users\\azhag\\anaconda3\\lib\\site-packages (from catboost) (3.5.1)\n",
      "Collecting graphviz\n",
      "  Downloading graphviz-0.20.1-py3-none-any.whl (47 kB)\n",
      "Requirement already satisfied: numpy>=1.16.0 in c:\\users\\azhag\\anaconda3\\lib\\site-packages (from catboost) (1.21.5)\n",
      "Requirement already satisfied: plotly in c:\\users\\azhag\\anaconda3\\lib\\site-packages (from catboost) (5.6.0)\n",
      "Requirement already satisfied: pytz>=2020.1 in c:\\users\\azhag\\anaconda3\\lib\\site-packages (from pandas>=0.24->catboost) (2021.3)\n",
      "Requirement already satisfied: python-dateutil>=2.8.1 in c:\\users\\azhag\\anaconda3\\lib\\site-packages (from pandas>=0.24->catboost) (2.8.2)\n",
      "Requirement already satisfied: kiwisolver>=1.0.1 in c:\\users\\azhag\\anaconda3\\lib\\site-packages (from matplotlib->catboost) (1.3.2)\n",
      "Requirement already satisfied: pillow>=6.2.0 in c:\\users\\azhag\\anaconda3\\lib\\site-packages (from matplotlib->catboost) (9.0.1)\n",
      "Requirement already satisfied: cycler>=0.10 in c:\\users\\azhag\\anaconda3\\lib\\site-packages (from matplotlib->catboost) (0.11.0)\n",
      "Requirement already satisfied: fonttools>=4.22.0 in c:\\users\\azhag\\anaconda3\\lib\\site-packages (from matplotlib->catboost) (4.25.0)\n",
      "Requirement already satisfied: pyparsing>=2.2.1 in c:\\users\\azhag\\anaconda3\\lib\\site-packages (from matplotlib->catboost) (3.0.4)\n",
      "Requirement already satisfied: packaging>=20.0 in c:\\users\\azhag\\anaconda3\\lib\\site-packages (from matplotlib->catboost) (21.3)\n",
      "Requirement already satisfied: tenacity>=6.2.0 in c:\\users\\azhag\\anaconda3\\lib\\site-packages (from plotly->catboost) (8.0.1)\n",
      "Installing collected packages: graphviz, catboost\n",
      "Successfully installed catboost-1.2 graphviz-0.20.1\n"
     ]
    }
   ],
   "source": [
    "!pip install catboost"
   ]
  },
  {
   "cell_type": "code",
   "execution_count": 30,
   "id": "2eefe1ea",
   "metadata": {},
   "outputs": [
    {
     "name": "stdout",
     "output_type": "stream",
     "text": [
      "Accuracy: 1.0\n",
      "Classification Report:\n",
      "               precision    recall  f1-score   support\n",
      "\n",
      "         0.0       1.00      1.00      1.00      3320\n",
      "         1.0       1.00      1.00      1.00     10661\n",
      "         2.0       1.00      1.00      1.00     16549\n",
      "\n",
      "    accuracy                           1.00     30530\n",
      "   macro avg       1.00      1.00      1.00     30530\n",
      "weighted avg       1.00      1.00      1.00     30530\n",
      "\n"
     ]
    }
   ],
   "source": [
    "import catboost as cb\n",
    "model_cb = cb.CatBoostClassifier(iterations=100, learning_rate=0.1, depth=6, loss_function='MultiClass')\n",
    "model_cb.fit(X_train, y_train, verbose=False)\n",
    "y_pred = model_cb.predict(X_test)\n",
    "accuracy_cb = accuracy_score(y_test, y_pred)\n",
    "classification_cb = classification_report(y_test, y_pred)\n",
    "print(\"Accuracy:\", accuracy_cb)\n",
    "print(\"Classification Report:\\n\", classification_cb)\n",
    "\n"
   ]
  },
  {
   "cell_type": "markdown",
   "id": "ffef1e2b",
   "metadata": {},
   "source": [
    "### XG Boost"
   ]
  },
  {
   "cell_type": "code",
   "execution_count": 35,
   "id": "73f2b31f",
   "metadata": {},
   "outputs": [
    {
     "name": "stdout",
     "output_type": "stream",
     "text": [
      "Collecting xgboost\n",
      "  Downloading xgboost-1.7.5-py3-none-win_amd64.whl (70.9 MB)\n",
      "Requirement already satisfied: scipy in c:\\users\\azhag\\anaconda3\\lib\\site-packages (from xgboost) (1.7.3)\n",
      "Requirement already satisfied: numpy in c:\\users\\azhag\\anaconda3\\lib\\site-packages (from xgboost) (1.21.5)\n",
      "Installing collected packages: xgboost\n",
      "Successfully installed xgboost-1.7.5\n"
     ]
    }
   ],
   "source": [
    "!pip install xgboost"
   ]
  },
  {
   "cell_type": "code",
   "execution_count": 31,
   "id": "386a0dc0",
   "metadata": {},
   "outputs": [
    {
     "name": "stdout",
     "output_type": "stream",
     "text": [
      "Accuracy: 1.0\n",
      "Classification Report:\n",
      "               precision    recall  f1-score   support\n",
      "\n",
      "         0.0       1.00      1.00      1.00      3320\n",
      "         1.0       1.00      1.00      1.00     10661\n",
      "         2.0       1.00      1.00      1.00     16549\n",
      "\n",
      "    accuracy                           1.00     30530\n",
      "   macro avg       1.00      1.00      1.00     30530\n",
      "weighted avg       1.00      1.00      1.00     30530\n",
      "\n"
     ]
    }
   ],
   "source": [
    "import xgboost as xgb\n",
    "model_xgb = xgb.XGBClassifier(n_estimators=100, learning_rate=0.1, max_depth=3, objective='multi:softmax')\n",
    "model_xgb.fit(X_train, y_train)\n",
    "y_pred = model_xgb.predict(X_test)\n",
    "\n",
    "accuracy_xgb = accuracy_score(y_test, y_pred)\n",
    "classification_xgb = classification_report(y_test, y_pred)\n",
    "print(\"Accuracy:\", accuracy_xgb)\n",
    "print(\"Classification Report:\\n\", classification_xgb)\n"
   ]
  },
  {
   "cell_type": "markdown",
   "id": "1236a799",
   "metadata": {},
   "source": [
    "### Light GBM"
   ]
  },
  {
   "cell_type": "code",
   "execution_count": 38,
   "id": "6294abe0",
   "metadata": {},
   "outputs": [
    {
     "name": "stdout",
     "output_type": "stream",
     "text": [
      "Collecting lightgbm\n",
      "  Downloading lightgbm-3.3.5-py3-none-win_amd64.whl (1.0 MB)\n",
      "Requirement already satisfied: wheel in c:\\users\\azhag\\anaconda3\\lib\\site-packages (from lightgbm) (0.37.1)\n",
      "Requirement already satisfied: numpy in c:\\users\\azhag\\anaconda3\\lib\\site-packages (from lightgbm) (1.21.5)\n",
      "Requirement already satisfied: scipy in c:\\users\\azhag\\anaconda3\\lib\\site-packages (from lightgbm) (1.7.3)\n",
      "Requirement already satisfied: scikit-learn!=0.22.0 in c:\\users\\azhag\\anaconda3\\lib\\site-packages (from lightgbm) (1.0.2)\n",
      "Requirement already satisfied: joblib>=0.11 in c:\\users\\azhag\\anaconda3\\lib\\site-packages (from scikit-learn!=0.22.0->lightgbm) (1.1.0)\n",
      "Requirement already satisfied: threadpoolctl>=2.0.0 in c:\\users\\azhag\\anaconda3\\lib\\site-packages (from scikit-learn!=0.22.0->lightgbm) (2.2.0)\n",
      "Installing collected packages: lightgbm\n",
      "Successfully installed lightgbm-3.3.5\n",
      "Note: you may need to restart the kernel to use updated packages.\n"
     ]
    }
   ],
   "source": [
    "pip install lightgbm"
   ]
  },
  {
   "cell_type": "code",
   "execution_count": 32,
   "id": "2cdc0a46",
   "metadata": {},
   "outputs": [
    {
     "name": "stdout",
     "output_type": "stream",
     "text": [
      "Accuracy: 1.0\n",
      "Classification Report:\n",
      "               precision    recall  f1-score   support\n",
      "\n",
      "         0.0       1.00      1.00      1.00      3320\n",
      "         1.0       1.00      1.00      1.00     10661\n",
      "         2.0       1.00      1.00      1.00     16549\n",
      "\n",
      "    accuracy                           1.00     30530\n",
      "   macro avg       1.00      1.00      1.00     30530\n",
      "weighted avg       1.00      1.00      1.00     30530\n",
      "\n"
     ]
    }
   ],
   "source": [
    "import lightgbm as lgb\n",
    "model_lgb = lgb.LGBMClassifier(num_iterations=100, learning_rate=0.1, max_depth=3, objective='multiclass')\n",
    "model_lgb.fit(X_train, y_train)\n",
    "y_pred = model_lgb.predict(X_test)\n",
    "accuracy_lgb = accuracy_score(y_test, y_pred)\n",
    "classification_lgb = classification_report(y_test, y_pred)\n",
    "print(\"Accuracy:\", accuracy_lgb)\n",
    "print(\"Classification Report:\\n\", classification_lgb)\n"
   ]
  }
 ],
 "metadata": {
  "kernelspec": {
   "display_name": "Python 3 (ipykernel)",
   "language": "python",
   "name": "python3"
  },
  "language_info": {
   "codemirror_mode": {
    "name": "ipython",
    "version": 3
   },
   "file_extension": ".py",
   "mimetype": "text/x-python",
   "name": "python",
   "nbconvert_exporter": "python",
   "pygments_lexer": "ipython3",
   "version": "3.9.12"
  }
 },
 "nbformat": 4,
 "nbformat_minor": 5
}
